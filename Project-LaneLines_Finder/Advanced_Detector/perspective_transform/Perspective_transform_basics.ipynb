{
 "cells": [
  {
   "cell_type": "markdown",
   "metadata": {},
   "source": [
    "This Notebook is about the Perspective transormtion on a stop sign."
   ]
  },
  {
   "cell_type": "code",
   "execution_count": 6,
   "metadata": {},
   "outputs": [],
   "source": [
    "#load the libs\n",
    "import numpy as np\n",
    "import cv2\n",
    "import matplotlib.pyplot as plt\n",
    "import matplotlib.image as mpimg\n",
    "%matplotlib qt"
   ]
  },
  {
   "cell_type": "code",
   "execution_count": 7,
   "metadata": {},
   "outputs": [
    {
     "data": {
      "text/plain": [
       "<matplotlib.image.AxesImage at 0x25d1a5be668>"
      ]
     },
     "execution_count": 7,
     "metadata": {},
     "output_type": "execute_result"
    }
   ],
   "source": [
    "#read in the image\n",
    "img = mpimg.imread(\"stop_sign.jpg\")\n",
    "\n",
    "plt.imshow(img)"
   ]
  },
  {
   "cell_type": "code",
   "execution_count": 14,
   "metadata": {},
   "outputs": [
    {
     "data": {
      "text/plain": [
       "[<matplotlib.lines.Line2D at 0x25d1e227470>]"
      ]
     },
     "execution_count": 14,
     "metadata": {},
     "output_type": "execute_result"
    }
   ],
   "source": [
    "#source image ponints\n",
    "plt.imshow(img)\n",
    "plt.plot(350,100,'*')#top right\n",
    "plt.plot(315,200,'*')#bottom right\n",
    "plt.plot(44,200,'*')#bottom left\n",
    "plt.plot(85,100,'*')#top left\n",
    "\n"
   ]
  },
  {
   "cell_type": "code",
   "execution_count": 12,
   "metadata": {},
   "outputs": [],
   "source": [
    "\n",
    "#define perspective transormation function\n",
    "def warp(img):\n",
    "    #define calibration box in source and destination\n",
    "    img_size = (img.shape[1], img.shape[0])\n",
    "    #four co-ordinates\n",
    "    src = np.float32([[300,100],\n",
    "                     [315,200],\n",
    "                     [44,200],\n",
    "                     [85,100]])\n",
    "    dst = np.float32([[320,100],\n",
    "                     [320,200],\n",
    "                     [40,200],\n",
    "                     [40,100]])\n",
    "    \n",
    "    #compute the perspective image transformation mapping\n",
    "    M = cv2.getPerspectiveTransform(src, dst)\n",
    "    \n",
    "    #could compute the inverse also by swapping the input parameters\n",
    "    Minv = cv2.getPerspectiveTransform(dst,src)\n",
    "    \n",
    "    #create warped image - uses the linear interpolation\n",
    "    warped = cv2.warpPerspective(img, M,img_size,flags = cv2.INTER_LINEAR )\n",
    "    \n",
    "    return warped\n",
    "    "
   ]
  },
  {
   "cell_type": "code",
   "execution_count": 16,
   "metadata": {},
   "outputs": [
    {
     "data": {
      "text/plain": [
       "<matplotlib.image.AxesImage at 0x25d1e07f9e8>"
      ]
     },
     "execution_count": 16,
     "metadata": {},
     "output_type": "execute_result"
    }
   ],
   "source": [
    "#get the perspective image\n",
    "warped_im = warp(img)\n",
    "\n",
    "#visual distortion\n",
    "plt.imshow(warped_im)"
   ]
  }
 ],
 "metadata": {
  "kernelspec": {
   "display_name": "Python 3",
   "language": "python",
   "name": "python3"
  },
  "language_info": {
   "codemirror_mode": {
    "name": "ipython",
    "version": 3
   },
   "file_extension": ".py",
   "mimetype": "text/x-python",
   "name": "python",
   "nbconvert_exporter": "python",
   "pygments_lexer": "ipython3",
   "version": "3.6.9"
  }
 },
 "nbformat": 4,
 "nbformat_minor": 2
}
